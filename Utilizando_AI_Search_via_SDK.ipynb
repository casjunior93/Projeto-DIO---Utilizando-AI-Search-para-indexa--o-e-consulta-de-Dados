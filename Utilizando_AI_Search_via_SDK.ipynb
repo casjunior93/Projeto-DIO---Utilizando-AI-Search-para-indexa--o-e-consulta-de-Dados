{
  "nbformat": 4,
  "nbformat_minor": 0,
  "metadata": {
    "colab": {
      "provenance": [],
      "authorship_tag": "ABX9TyMpYxvDS+3lZLoNNn0E52mR",
      "include_colab_link": true
    },
    "kernelspec": {
      "name": "python3",
      "display_name": "Python 3"
    },
    "language_info": {
      "name": "python"
    }
  },
  "cells": [
    {
      "cell_type": "markdown",
      "metadata": {
        "id": "view-in-github",
        "colab_type": "text"
      },
      "source": [
        "<a href=\"https://colab.research.google.com/github/casjunior93/Projeto-DIO---Utilizando-AI-Search-para-indexa--o-e-consulta-de-Dados/blob/main/Utilizando_AI_Search_via_SDK.ipynb\" target=\"_parent\"><img src=\"https://colab.research.google.com/assets/colab-badge.svg\" alt=\"Open In Colab\"/></a>"
      ]
    },
    {
      "cell_type": "markdown",
      "source": [
        "# Azure Cognitive Search: Utilizando AI Search para consulta de Dados"
      ],
      "metadata": {
        "id": "2UBDaXbuA8gd"
      }
    },
    {
      "cell_type": "markdown",
      "source": [
        "Instalando e carregando as bibliotecas do SDK do Azure para Python"
      ],
      "metadata": {
        "id": "1nPsZaxZBANr"
      }
    },
    {
      "cell_type": "code",
      "execution_count": null,
      "metadata": {
        "id": "WgBy3_m_A6Z-"
      },
      "outputs": [],
      "source": [
        "!pip install azure-search-documents --pre\n",
        "!ip show azure-search-documents\n",
        "\n",
        "import os\n",
        "from azure.core.credentials import AzureKeyCredential\n",
        "from azure.search.documents.indexes import SearchIndexClient\n",
        "from azure.search.documents import SearchClient\n",
        "from azure.search.documents.indexes.models import (\n",
        "    ComplexField,\n",
        "    CorsOptions,\n",
        "    SearchIndex,\n",
        "    ScoringProfile,\n",
        "    SearchFieldDataType,\n",
        "    SimpleField,\n",
        "    SearchableField\n",
        ")"
      ]
    },
    {
      "cell_type": "markdown",
      "source": [
        "# Adicionando informações de conexão e autenticando."
      ],
      "metadata": {
        "id": "_CbrXZboBdBb"
      }
    },
    {
      "cell_type": "markdown",
      "source": [
        "Para encontrar a URL, basta acessar a opção de menu \"Visão geral\" na página do recurso de Serviço de pesquisa, e em seguida copiar a URL que aparece em \"Informações básicas\"."
      ],
      "metadata": {
        "id": "zohlnnt2CAwN"
      }
    },
    {
      "cell_type": "markdown",
      "source": [
        "Para encontrar a chave, basta acessar \"Chaves\" no menu lateral da página do recurso."
      ],
      "metadata": {
        "id": "v9vxPx3YCdqg"
      }
    },
    {
      "cell_type": "code",
      "source": [
        "service_name = \"NOME DO SEU SERVIÇO\"\n",
        "admin_key = \"SUA CHAVE\"\n",
        "index_name = \"SEU INDEX\"\n",
        "endpoint = \"SEU ENDPOINT\".format(service_name)"
      ],
      "metadata": {
        "id": "f9HTQbX1CvQe"
      },
      "execution_count": 8,
      "outputs": []
    },
    {
      "cell_type": "code",
      "source": [
        "# Create an SDK client\n",
        "admin_client = SearchIndexClient(endpoint=endpoint,\n",
        "                      index_name=index_name,\n",
        "                      credential=AzureKeyCredential(admin_key))\n",
        "\n",
        "search_client = SearchClient(endpoint=endpoint,\n",
        "                      index_name=index_name,\n",
        "                      credential=AzureKeyCredential(admin_key))"
      ],
      "metadata": {
        "id": "YZykBCkxBTZJ"
      },
      "execution_count": 3,
      "outputs": []
    },
    {
      "cell_type": "markdown",
      "source": [
        "Realizando uma consulta sobre localidade:"
      ],
      "metadata": {
        "id": "Cu530z4kD1YV"
      }
    },
    {
      "cell_type": "code",
      "source": [
        "results = search_client.search(search_text=\"locations:'Chicago'\", include_total_count=True)\n",
        "\n",
        "print ('Total de documentos retornados na consulta:', results.get_count())"
      ],
      "metadata": {
        "colab": {
          "base_uri": "https://localhost:8080/"
        },
        "id": "HlIBhbkqD29h",
        "outputId": "176e21c4-a9ad-433b-e459-8d27d9bab4ab"
      },
      "execution_count": 4,
      "outputs": [
        {
          "output_type": "stream",
          "name": "stdout",
          "text": [
            "Total de documentos retornados na consulta: 3\n"
          ]
        }
      ]
    },
    {
      "cell_type": "code",
      "source": [
        "results = search_client.search(search_text=\"locations:'Chicago'\", include_total_count=True)\n",
        "\n",
        "for result in results:\n",
        "  print(\"Opinião: \", result['merged_content'])\n",
        "  print(\"Sentimento: \", result['sentiment'])\n",
        "  print('\\n\\n----\\n\\n')"
      ],
      "metadata": {
        "colab": {
          "base_uri": "https://localhost:8080/"
        },
        "id": "XjMR_4Y2EIIq",
        "outputId": "c82071f8-dd56-4584-fa13-fa1275e19f8e"
      },
      "execution_count": 5,
      "outputs": [
        {
          "output_type": "stream",
          "name": "stdout",
          "text": [
            "Opinião:  Review: Today I was truly disappointed with how long I had to wait for the pastries I ordered ahead of time. When I got my box, some of the pastries seemed stale. Terrible experience!  \n",
            "Date: October 23, 2018\n",
            "Location: Chicago, Illinois \n",
            "\n",
            "\n",
            "Sentimento:  [\"negative\"]\n",
            "\n",
            "\n",
            "----\n",
            "\n",
            "\n",
            "Opinião:  \n",
            "\n",
            "Review: The coffee tastings every Wednesday afternoon are so fun. Each month there is a new drink theme. You do need to book a spot in advance to attend. It is very worth it! I also love their local music. Fourth Coffee brings in rising artists every weekend. I like to head over there mid-afternoon on weekdays when it’s not too busy and get a slice of pie or their seasonal baked goods.  \n",
            "Date: August 13, 2018\n",
            "Location: Chicago, Illinois  \n",
            "\n",
            "image1.png\n",
            " ierican Coffee 114 10148/0034 \n",
            "\n",
            "\n",
            "image2.png\n",
            "  \n",
            "\n",
            "\n",
            "\n",
            "Sentimento:  [\"positive\"]\n",
            "\n",
            "\n",
            "----\n",
            "\n",
            "\n",
            "Opinião:  \n",
            "Review: I often make Fourth Coffee my meeting spot for my client meetings weekday mornings. I own a small business and the folks who work at Fourth Coffee are always very friendly. It leaves a good impression on my clients. There are also plenty of drink selections, good wi-fi, and seating. Some of my favorite coffees are the lavender honey latte and, in the winter, the apple-chai latte. There are delicious baked goods offered as well. \n",
            "Date: October 21, 2018\n",
            "Location: Chicago, Illinois \n",
            "\n",
            "image1.png\n",
            "  \n",
            "\n",
            "\n",
            "\n",
            "Sentimento:  [\"positive\"]\n",
            "\n",
            "\n",
            "----\n",
            "\n",
            "\n"
          ]
        }
      ]
    },
    {
      "cell_type": "markdown",
      "source": [
        "Realizando uma consulta sobre sentimentos:"
      ],
      "metadata": {
        "id": "GuDACquBFwQh"
      }
    },
    {
      "cell_type": "code",
      "source": [
        "results = search_client.search(search_text=\"sentiment:'positive'\", include_total_count=True)\n",
        "\n",
        "print ('Total de documentos retornados na consulta:', results.get_count())"
      ],
      "metadata": {
        "colab": {
          "base_uri": "https://localhost:8080/"
        },
        "id": "LKhAdLvwF6Wm",
        "outputId": "9b023cf2-72d1-423a-a55e-40388fe6944b"
      },
      "execution_count": 6,
      "outputs": [
        {
          "output_type": "stream",
          "name": "stdout",
          "text": [
            "Total de documentos retornados na consulta: 7\n"
          ]
        }
      ]
    },
    {
      "cell_type": "code",
      "source": [
        "results = search_client.search(search_text=\"sentiment:'positive'\", include_total_count=True)\n",
        "\n",
        "for result in results:\n",
        "  print(\"Opinião: \", result['merged_content'])\n",
        "  print(\"Sentimento: \", result['sentiment'])\n",
        "  print('\\n\\n----\\n\\n')"
      ],
      "metadata": {
        "colab": {
          "base_uri": "https://localhost:8080/"
        },
        "id": "pjh3qn8FFw3X",
        "outputId": "a60d48e0-eea5-45b5-f9de-72faacb1656f"
      },
      "execution_count": 7,
      "outputs": [
        {
          "output_type": "stream",
          "name": "stdout",
          "text": [
            "Opinião:  Review: I heard that Fourth Coffee had the best seasonal donuts, so I ordered a dozen for my team for an event. Everyone loved them, I’ll definitely order again! \n",
            "Date: October 25, 2018\n",
            "Location: Seattle, Washington \n",
            "\n",
            "\n",
            "Sentimento:  [\"positive\"]\n",
            "\n",
            "\n",
            "----\n",
            "\n",
            "\n",
            "Opinião:  \n",
            "Review: What I really like about this location is that there are also art classes offered for children! My family loves to come to Fourth Coffee on weekends for the live music and paint events! Some of the best events my kids have been to are at Fourth Coffee on a rainy Saturday. Hopefully they will bring back the Melodies & Collage Memories event, that was a great time for our whole family. \n",
            "Date: October 14, 2018\n",
            "Location: Seattle, Washington  \n",
            "image1.png\n",
            " 3 \n",
            "\n",
            "\n",
            "image2.png\n",
            "  \n",
            "\n",
            "\n",
            "\n",
            "Sentimento:  [\"positive\"]\n",
            "\n",
            "\n",
            "----\n",
            "\n",
            "\n",
            "Opinião:  \n",
            "\n",
            "Review: I love the coffee drinks here, but my favorite part is the local art they sell. There are many kinds of paintings and watercolors they showcase each week. I love checking out the new prints that they have and buying cards for friends. Also did I mention that the wi-fi is excellent? \n",
            "Date: September 3, 2018\n",
            "Location: Seattle, Washington  \n",
            "image1.png\n",
            "  \n",
            "\n",
            "\n",
            "image2.png\n",
            "  \n",
            "\n",
            "\n",
            "\n",
            "Sentimento:  [\"positive\"]\n",
            "\n",
            "\n",
            "----\n",
            "\n",
            "\n",
            "Opinião:  \n",
            "\n",
            "Review: The coffee tastings every Wednesday afternoon are so fun. Each month there is a new drink theme. You do need to book a spot in advance to attend. It is very worth it! I also love their local music. Fourth Coffee brings in rising artists every weekend. I like to head over there mid-afternoon on weekdays when it’s not too busy and get a slice of pie or their seasonal baked goods.  \n",
            "Date: August 13, 2018\n",
            "Location: Chicago, Illinois  \n",
            "\n",
            "image1.png\n",
            " ierican Coffee 114 10148/0034 \n",
            "\n",
            "\n",
            "image2.png\n",
            "  \n",
            "\n",
            "\n",
            "\n",
            "Sentimento:  [\"positive\"]\n",
            "\n",
            "\n",
            "----\n",
            "\n",
            "\n",
            "Opinião:  \n",
            "\n",
            "Review: The great thing about this Fourth Coffee location is that there’s an event space for talks. I went to one the other day that focused on giving students a place to present their latest research. The event room is also perfect for larger groups or clubs to meet up. Just be aware that weekends it can get really crowded, which I don’t like. \n",
            "Date: October 11, 2018\n",
            "Location: Los Angeles, California\t\n",
            "image1.png\n",
            "  \n",
            "\n",
            "\n",
            "image2.png\n",
            " . .. ..... \n",
            "\n",
            "\n",
            "\n",
            "Sentimento:  [\"positive\"]\n",
            "\n",
            "\n",
            "----\n",
            "\n",
            "\n",
            "Opinião:  \n",
            "Review: I often make Fourth Coffee my meeting spot for my client meetings weekday mornings. I own a small business and the folks who work at Fourth Coffee are always very friendly. It leaves a good impression on my clients. There are also plenty of drink selections, good wi-fi, and seating. Some of my favorite coffees are the lavender honey latte and, in the winter, the apple-chai latte. There are delicious baked goods offered as well. \n",
            "Date: October 21, 2018\n",
            "Location: Chicago, Illinois \n",
            "\n",
            "image1.png\n",
            "  \n",
            "\n",
            "\n",
            "\n",
            "Sentimento:  [\"positive\"]\n",
            "\n",
            "\n",
            "----\n",
            "\n",
            "\n",
            "Opinião:  \n",
            "\n",
            "\n",
            "Review: My favorite part about going to Fourth Coffee is the atmosphere. I love the warm lights and plants. It’s a great place to go get a cup of coffee while working on your next business idea or with friends at school. It’s also right next to the University hub, which makes it so easy to access for students. It just gets so busy on the weekends! I wish it was not so crowded. Since they started offering amazing breakfast sandwiches, I wouldn’t try to go get a coffee Saturday morning.  \n",
            "Date: September 1, 2018\n",
            "Location: Los Angeles, California \n",
            "image1.png\n",
            "  \n",
            "\n",
            "\n",
            "image2.png\n",
            " T \n",
            "\n",
            "\n",
            "\n",
            "Sentimento:  [\"positive\"]\n",
            "\n",
            "\n",
            "----\n",
            "\n",
            "\n"
          ]
        }
      ]
    },
    {
      "cell_type": "markdown",
      "source": [
        "SDK usada com sucesso!"
      ],
      "metadata": {
        "id": "1_HitA1OGJ1L"
      }
    }
  ]
}